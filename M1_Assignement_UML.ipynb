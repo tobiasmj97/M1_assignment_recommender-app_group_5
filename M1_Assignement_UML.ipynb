{
  "nbformat": 4,
  "nbformat_minor": 0,
  "metadata": {
    "colab": {
      "provenance": []
    },
    "kernelspec": {
      "name": "python3",
      "display_name": "Python 3"
    },
    "language_info": {
      "name": "python"
    }
  },
  "cells": [
    {
      "cell_type": "markdown",
      "source": [
        "# Exercise for UML"
      ],
      "metadata": {
        "id": "FgprlXXFv1Fn"
      }
    },
    {
      "cell_type": "markdown",
      "source": [
        "# Project Title - Spotify recommender system\n",
        "## About the Dataset\n",
        "These dataset contains 114000 song and metadata about the songs such as their popularity and genres. The exercise is divided in three part mainly EDA, PCA and Clustering and finally the recommender system.\n",
        "Try to write your own functions and know your keyboard shortcuts.\n",
        "You can work on GoogleCollab or work locally.\n",
        "\n",
        "The dataset: https://raw.githubusercontent.com/aaubs/ds-master/main/data/spotify_UML/spotify.csv"
      ],
      "metadata": {
        "id": "LT42Yxomv5I3"
      }
    },
    {
      "cell_type": "markdown",
      "source": [
        "# Part 1"
      ],
      "metadata": {
        "id": "sMfU_ASjwqnS"
      }
    },
    {
      "cell_type": "markdown",
      "source": [
        "## Goals of Part 1\n",
        "    1. Clean up the dataset and check for duplicates\n",
        "    2. EDA\n",
        "    3. Plots\n",
        "## Relevant libraries for this part\n",
        "    1. Pandas\n",
        "    2. Numpy\n",
        "    3. Matplotlib\n",
        "    4. Seaborn\n",
        "    5. Pygwalker\n",
        "\n"
      ],
      "metadata": {
        "id": "jjrDwVOnwtho"
      }
    },
    {
      "cell_type": "markdown",
      "source": [
        "## Exercises Part 1"
      ],
      "metadata": {
        "id": "DaH1kjv7w7TJ"
      }
    },
    {
      "cell_type": "code",
      "execution_count": null,
      "metadata": {
        "id": "19olq74-t-lm"
      },
      "outputs": [],
      "source": [
        "# Import the necessary libraries\n"
      ]
    },
    {
      "cell_type": "code",
      "source": [
        "# Import the dataset. How are you doing it?\n"
      ],
      "metadata": {
        "id": "an_PzQ1YxBSb"
      },
      "execution_count": null,
      "outputs": []
    },
    {
      "cell_type": "code",
      "source": [
        "# Understand the dataset. What columns are available?"
      ],
      "metadata": {
        "id": "cnMJGtoE8rcL"
      },
      "execution_count": null,
      "outputs": []
    },
    {
      "cell_type": "code",
      "source": [
        "# Check for missing values. How would you handle them?\n",
        "# Are there any outliers or unusual values in the dataset?"
      ],
      "metadata": {
        "id": "sRvySccp8xEs"
      },
      "execution_count": null,
      "outputs": []
    },
    {
      "cell_type": "code",
      "source": [
        "#  What are the distributions of song popularity, duration_ms, and danceability? Use appropriate visualizations.\n",
        "#  How many unique genres are in the dataset? List the top 20. (Explain how you choose to list the top 20)"
      ],
      "metadata": {
        "id": "cjbnJcyq84Z-"
      },
      "execution_count": null,
      "outputs": []
    },
    {
      "cell_type": "code",
      "source": [
        "#   Visualize the number of songs by genre. Which are the most common genres?\n",
        "#   Rank genres by the average popularity of their songs. Which genres tend to have more popular songs?\n",
        "#   Explore other characteristics (like danceability, energy, etc.) by genre. Are there any noticeable differences or trends?"
      ],
      "metadata": {
        "id": "rMkp76on-WMO"
      },
      "execution_count": null,
      "outputs": []
    },
    {
      "cell_type": "code",
      "source": [
        " # Investigate the relationship between danceability and energy. Do songs that are more danceable tend to have more energy? Use a scatter plot.\n",
        " # How does song popularity relate to other characteristics like danceability, loudness, or tempo?"
      ],
      "metadata": {
        "id": "ielqDlwV-vsw"
      },
      "execution_count": null,
      "outputs": []
    },
    {
      "cell_type": "code",
      "source": [
        " #  How do explicit songs compare to non-explicit ones in terms of popularity or other characteristics?\n",
        " #  Are there any trends related to tempo or time_signature?"
      ],
      "metadata": {
        "id": "_FxRvL0u-99L"
      },
      "execution_count": null,
      "outputs": []
    },
    {
      "cell_type": "markdown",
      "source": [
        "# Part 2"
      ],
      "metadata": {
        "id": "l7D2uPGCM1oR"
      }
    },
    {
      "cell_type": "markdown",
      "source": [
        "## Goals of Part 2\n",
        "    1. Pre-processing for PCA (encoding & scaling)\n",
        "    2. PCA and explanations of results\n",
        "    3. Clustering\n",
        "## Relevant libraries for this part\n",
        "    1. StandardScaler\n",
        "    2. PCA\n",
        "    3. KMeans\n",
        "\n"
      ],
      "metadata": {
        "id": "xt2GQRMLM3To"
      }
    },
    {
      "cell_type": "code",
      "source": [
        "#  Handle any missing or categorical data.\n",
        "#  Standardize the dataset since PCA is sensitive to the magnitude of the data."
      ],
      "metadata": {
        "id": "6p2J7GpNSdEF"
      },
      "execution_count": null,
      "outputs": []
    },
    {
      "cell_type": "code",
      "source": [
        " # Conduct a PCA on the song characteristics.\n",
        " # Visualize the explained variance for each principal component.\n",
        " # Reduce the dataset's dimensions based on the PCA results and visualize the data in the reduced dimension space."
      ],
      "metadata": {
        "id": "OVNhDbUYM1QA"
      },
      "execution_count": null,
      "outputs": []
    },
    {
      "cell_type": "code",
      "source": [
        " #   Choose a clustering algorithm (e.g., KMeans, DBSCAN, or Hierarchical).\n",
        " #   Determine the optimal number of clusters (if needed, like in KMeans). explain how you get to that number of clusters\n",
        " #   Cluster the songs based on the reduced dimensions from PCA.\n",
        " #   Visualize the clusters and interpret any patterns. Write your interpretations"
      ],
      "metadata": {
        "id": "lqNfn7F1VeKg"
      },
      "execution_count": null,
      "outputs": []
    },
    {
      "cell_type": "markdown",
      "source": [
        "# Part 3"
      ],
      "metadata": {
        "id": "iMaEqiQeO_nm"
      }
    },
    {
      "cell_type": "markdown",
      "source": [
        "## Goals of Part 3\n",
        "    1. Vectorization   \n",
        "    2. Cosine similarities\n",
        "    3. Build and test recommender\n",
        "    Objective: Develop a basic music recommender system that suggests songs based on textual data and put it in a small grad.io app\n",
        "## Relevant libraries for this part\n",
        "    1. linear_kernel\n",
        "    2. TfidfVectorizer\n",
        "    3. grad.io"
      ],
      "metadata": {
        "id": "lWtaD1EkPFPb"
      }
    },
    {
      "cell_type": "markdown",
      "source": [
        "Build the Recommender:\n",
        "\n",
        "  Create a function that takes a song name as input and outputs a list of songs recommended based on textual similarity. For this, you'll use the cosine similarity scores."
      ],
      "metadata": {
        "id": "vAMIpSaTYOW6"
      }
    },
    {
      "cell_type": "code",
      "source": [
        "# Refine the Textual Data: Consider merging multiple textual columns (e.g., artist name + track name) to generate recommendations based on combined textual data."
      ],
      "metadata": {
        "id": "lh6JlOR2YX9E"
      },
      "execution_count": null,
      "outputs": []
    },
    {
      "cell_type": "code",
      "source": [
        "# Filtering by Additional Features: How might you modify the recommender to suggest only songs from a particular genre or only non-explicit songs?"
      ],
      "metadata": {
        "id": "WO0YDiSzYaae"
      },
      "execution_count": null,
      "outputs": []
    },
    {
      "cell_type": "code",
      "source": [
        "#  Improving Efficiency: If you have a very large dataset, computing cosine similarities can be time-consuming. How might you address this efficiency concern?"
      ],
      "metadata": {
        "id": "CzjsZ4L9Ye9B"
      },
      "execution_count": null,
      "outputs": []
    }
  ]
}