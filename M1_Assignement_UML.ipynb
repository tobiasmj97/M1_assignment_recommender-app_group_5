{
  "cells": [
    {
      "cell_type": "markdown",
      "metadata": {
        "id": "FgprlXXFv1Fn"
      },
      "source": [
        "# Exercise for UML"
      ]
    },
    {
      "cell_type": "markdown",
      "metadata": {
        "id": "LT42Yxomv5I3"
      },
      "source": [
        "# Project Title - Spotify recommender system\n",
        "## About the Dataset\n",
        "These dataset contains 114000 song and metadata about the songs such as their popularity and genres. The exercise is divided in three part mainly EDA, PCA and Clustering and finally the recommender system.\n",
        "Try to write your own functions and know your keyboard shortcuts.\n",
        "You can work on GoogleCollab or work locally.\n",
        "\n",
        "The dataset: https://raw.githubusercontent.com/aaubs/ds-master/main/data/spotify_UML/spotify.csv"
      ]
    },
    {
      "cell_type": "markdown",
      "metadata": {
        "id": "sMfU_ASjwqnS"
      },
      "source": [
        "# Part 1"
      ]
    },
    {
      "cell_type": "markdown",
      "metadata": {
        "id": "jjrDwVOnwtho"
      },
      "source": [
        "## Goals of Part 1\n",
        "    1. Clean up the dataset and check for duplicates\n",
        "    2. EDA\n",
        "    3. Plots\n",
        "## Relevant libraries for this part\n",
        "    1. Pandas\n",
        "    2. Numpy\n",
        "    3. Matplotlib\n",
        "    4. Seaborn\n",
        "    5. Pygwalker\n",
        "\n"
      ]
    },
    {
      "cell_type": "markdown",
      "metadata": {
        "id": "DaH1kjv7w7TJ"
      },
      "source": [
        "## Exercises Part 1"
      ]
    },
    {
      "cell_type": "code",
      "execution_count": 1,
      "metadata": {
        "id": "19olq74-t-lm"
      },
      "outputs": [],
      "source": [
        "# Import the necessary libraries\n",
        "import pandas as pd\n",
        "import matplotlib as mpl\n",
        "import seaborn as sns\n",
        "import pygwalker as pyg\n",
        "import matplotlib.pyplot as plt"
      ]
    },
    {
      "cell_type": "code",
      "execution_count": 2,
      "metadata": {
        "id": "an_PzQ1YxBSb"
      },
      "outputs": [
        {
          "data": {
            "text/html": [
              "<div>\n",
              "<style scoped>\n",
              "    .dataframe tbody tr th:only-of-type {\n",
              "        vertical-align: middle;\n",
              "    }\n",
              "\n",
              "    .dataframe tbody tr th {\n",
              "        vertical-align: top;\n",
              "    }\n",
              "\n",
              "    .dataframe thead th {\n",
              "        text-align: right;\n",
              "    }\n",
              "</style>\n",
              "<table border=\"1\" class=\"dataframe\">\n",
              "  <thead>\n",
              "    <tr style=\"text-align: right;\">\n",
              "      <th></th>\n",
              "      <th>Unnamed: 0</th>\n",
              "      <th>track_id</th>\n",
              "      <th>artists</th>\n",
              "      <th>album_name</th>\n",
              "      <th>track_name</th>\n",
              "      <th>popularity</th>\n",
              "      <th>duration_ms</th>\n",
              "      <th>explicit</th>\n",
              "      <th>danceability</th>\n",
              "      <th>energy</th>\n",
              "      <th>...</th>\n",
              "      <th>loudness</th>\n",
              "      <th>mode</th>\n",
              "      <th>speechiness</th>\n",
              "      <th>acousticness</th>\n",
              "      <th>instrumentalness</th>\n",
              "      <th>liveness</th>\n",
              "      <th>valence</th>\n",
              "      <th>tempo</th>\n",
              "      <th>time_signature</th>\n",
              "      <th>track_genre</th>\n",
              "    </tr>\n",
              "  </thead>\n",
              "  <tbody>\n",
              "    <tr>\n",
              "      <th>0</th>\n",
              "      <td>0</td>\n",
              "      <td>5SuOikwiRyPMVoIQDJUgSV</td>\n",
              "      <td>Gen Hoshino</td>\n",
              "      <td>Comedy</td>\n",
              "      <td>Comedy</td>\n",
              "      <td>73</td>\n",
              "      <td>230666</td>\n",
              "      <td>False</td>\n",
              "      <td>0.676</td>\n",
              "      <td>0.4610</td>\n",
              "      <td>...</td>\n",
              "      <td>-6.746</td>\n",
              "      <td>0</td>\n",
              "      <td>0.1430</td>\n",
              "      <td>0.0322</td>\n",
              "      <td>0.000001</td>\n",
              "      <td>0.3580</td>\n",
              "      <td>0.715</td>\n",
              "      <td>87.917</td>\n",
              "      <td>4</td>\n",
              "      <td>acoustic</td>\n",
              "    </tr>\n",
              "    <tr>\n",
              "      <th>1</th>\n",
              "      <td>1</td>\n",
              "      <td>4qPNDBW1i3p13qLCt0Ki3A</td>\n",
              "      <td>Ben Woodward</td>\n",
              "      <td>Ghost (Acoustic)</td>\n",
              "      <td>Ghost - Acoustic</td>\n",
              "      <td>55</td>\n",
              "      <td>149610</td>\n",
              "      <td>False</td>\n",
              "      <td>0.420</td>\n",
              "      <td>0.1660</td>\n",
              "      <td>...</td>\n",
              "      <td>-17.235</td>\n",
              "      <td>1</td>\n",
              "      <td>0.0763</td>\n",
              "      <td>0.9240</td>\n",
              "      <td>0.000006</td>\n",
              "      <td>0.1010</td>\n",
              "      <td>0.267</td>\n",
              "      <td>77.489</td>\n",
              "      <td>4</td>\n",
              "      <td>acoustic</td>\n",
              "    </tr>\n",
              "    <tr>\n",
              "      <th>2</th>\n",
              "      <td>2</td>\n",
              "      <td>1iJBSr7s7jYXzM8EGcbK5b</td>\n",
              "      <td>Ingrid Michaelson;ZAYN</td>\n",
              "      <td>To Begin Again</td>\n",
              "      <td>To Begin Again</td>\n",
              "      <td>57</td>\n",
              "      <td>210826</td>\n",
              "      <td>False</td>\n",
              "      <td>0.438</td>\n",
              "      <td>0.3590</td>\n",
              "      <td>...</td>\n",
              "      <td>-9.734</td>\n",
              "      <td>1</td>\n",
              "      <td>0.0557</td>\n",
              "      <td>0.2100</td>\n",
              "      <td>0.000000</td>\n",
              "      <td>0.1170</td>\n",
              "      <td>0.120</td>\n",
              "      <td>76.332</td>\n",
              "      <td>4</td>\n",
              "      <td>acoustic</td>\n",
              "    </tr>\n",
              "    <tr>\n",
              "      <th>3</th>\n",
              "      <td>3</td>\n",
              "      <td>6lfxq3CG4xtTiEg7opyCyx</td>\n",
              "      <td>Kina Grannis</td>\n",
              "      <td>Crazy Rich Asians (Original Motion Picture Sou...</td>\n",
              "      <td>Can't Help Falling In Love</td>\n",
              "      <td>71</td>\n",
              "      <td>201933</td>\n",
              "      <td>False</td>\n",
              "      <td>0.266</td>\n",
              "      <td>0.0596</td>\n",
              "      <td>...</td>\n",
              "      <td>-18.515</td>\n",
              "      <td>1</td>\n",
              "      <td>0.0363</td>\n",
              "      <td>0.9050</td>\n",
              "      <td>0.000071</td>\n",
              "      <td>0.1320</td>\n",
              "      <td>0.143</td>\n",
              "      <td>181.740</td>\n",
              "      <td>3</td>\n",
              "      <td>acoustic</td>\n",
              "    </tr>\n",
              "    <tr>\n",
              "      <th>4</th>\n",
              "      <td>4</td>\n",
              "      <td>5vjLSffimiIP26QG5WcN2K</td>\n",
              "      <td>Chord Overstreet</td>\n",
              "      <td>Hold On</td>\n",
              "      <td>Hold On</td>\n",
              "      <td>82</td>\n",
              "      <td>198853</td>\n",
              "      <td>False</td>\n",
              "      <td>0.618</td>\n",
              "      <td>0.4430</td>\n",
              "      <td>...</td>\n",
              "      <td>-9.681</td>\n",
              "      <td>1</td>\n",
              "      <td>0.0526</td>\n",
              "      <td>0.4690</td>\n",
              "      <td>0.000000</td>\n",
              "      <td>0.0829</td>\n",
              "      <td>0.167</td>\n",
              "      <td>119.949</td>\n",
              "      <td>4</td>\n",
              "      <td>acoustic</td>\n",
              "    </tr>\n",
              "  </tbody>\n",
              "</table>\n",
              "<p>5 rows × 21 columns</p>\n",
              "</div>"
            ],
            "text/plain": [
              "   Unnamed: 0                track_id                 artists  \\\n",
              "0           0  5SuOikwiRyPMVoIQDJUgSV             Gen Hoshino   \n",
              "1           1  4qPNDBW1i3p13qLCt0Ki3A            Ben Woodward   \n",
              "2           2  1iJBSr7s7jYXzM8EGcbK5b  Ingrid Michaelson;ZAYN   \n",
              "3           3  6lfxq3CG4xtTiEg7opyCyx            Kina Grannis   \n",
              "4           4  5vjLSffimiIP26QG5WcN2K        Chord Overstreet   \n",
              "\n",
              "                                          album_name  \\\n",
              "0                                             Comedy   \n",
              "1                                   Ghost (Acoustic)   \n",
              "2                                     To Begin Again   \n",
              "3  Crazy Rich Asians (Original Motion Picture Sou...   \n",
              "4                                            Hold On   \n",
              "\n",
              "                   track_name  popularity  duration_ms  explicit  \\\n",
              "0                      Comedy          73       230666     False   \n",
              "1            Ghost - Acoustic          55       149610     False   \n",
              "2              To Begin Again          57       210826     False   \n",
              "3  Can't Help Falling In Love          71       201933     False   \n",
              "4                     Hold On          82       198853     False   \n",
              "\n",
              "   danceability  energy  ...  loudness  mode  speechiness  acousticness  \\\n",
              "0         0.676  0.4610  ...    -6.746     0       0.1430        0.0322   \n",
              "1         0.420  0.1660  ...   -17.235     1       0.0763        0.9240   \n",
              "2         0.438  0.3590  ...    -9.734     1       0.0557        0.2100   \n",
              "3         0.266  0.0596  ...   -18.515     1       0.0363        0.9050   \n",
              "4         0.618  0.4430  ...    -9.681     1       0.0526        0.4690   \n",
              "\n",
              "   instrumentalness  liveness  valence    tempo  time_signature  track_genre  \n",
              "0          0.000001    0.3580    0.715   87.917               4     acoustic  \n",
              "1          0.000006    0.1010    0.267   77.489               4     acoustic  \n",
              "2          0.000000    0.1170    0.120   76.332               4     acoustic  \n",
              "3          0.000071    0.1320    0.143  181.740               3     acoustic  \n",
              "4          0.000000    0.0829    0.167  119.949               4     acoustic  \n",
              "\n",
              "[5 rows x 21 columns]"
            ]
          },
          "execution_count": 2,
          "metadata": {},
          "output_type": "execute_result"
        }
      ],
      "source": [
        "# Import the dataset. How are you doing it?\n",
        "\n",
        "# Define the URL of the dataset\n",
        "url = \"https://raw.githubusercontent.com/aaubs/ds-master/main/data/spotify_UML/spotify.csv\"\n",
        "\n",
        "# Use Pandas to read the dataset into a DataFrame\n",
        "df = pd.read_csv(url)\n",
        "\n",
        "# Display the first few rows of the dataset to understand its structure\n",
        "df.head()"
      ]
    },
    {
      "cell_type": "code",
      "execution_count": 3,
      "metadata": {
        "id": "cnMJGtoE8rcL"
      },
      "outputs": [
        {
          "name": "stdout",
          "output_type": "stream",
          "text": [
            "<class 'pandas.core.frame.DataFrame'>\n",
            "RangeIndex: 114000 entries, 0 to 113999\n",
            "Data columns (total 21 columns):\n",
            " #   Column            Non-Null Count   Dtype  \n",
            "---  ------            --------------   -----  \n",
            " 0   Unnamed: 0        114000 non-null  int64  \n",
            " 1   track_id          114000 non-null  object \n",
            " 2   artists           113999 non-null  object \n",
            " 3   album_name        113999 non-null  object \n",
            " 4   track_name        113999 non-null  object \n",
            " 5   popularity        114000 non-null  int64  \n",
            " 6   duration_ms       114000 non-null  int64  \n",
            " 7   explicit          114000 non-null  bool   \n",
            " 8   danceability      114000 non-null  float64\n",
            " 9   energy            114000 non-null  float64\n",
            " 10  key               114000 non-null  int64  \n",
            " 11  loudness          114000 non-null  float64\n",
            " 12  mode              114000 non-null  int64  \n",
            " 13  speechiness       114000 non-null  float64\n",
            " 14  acousticness      114000 non-null  float64\n",
            " 15  instrumentalness  114000 non-null  float64\n",
            " 16  liveness          114000 non-null  float64\n",
            " 17  valence           114000 non-null  float64\n",
            " 18  tempo             114000 non-null  float64\n",
            " 19  time_signature    114000 non-null  int64  \n",
            " 20  track_genre       114000 non-null  object \n",
            "dtypes: bool(1), float64(9), int64(6), object(5)\n",
            "memory usage: 17.5+ MB\n"
          ]
        }
      ],
      "source": [
        "# Understand the dataset. What columns are available?\n",
        "\n",
        "df.info()"
      ]
    },
    {
      "cell_type": "code",
      "execution_count": 4,
      "metadata": {},
      "outputs": [
        {
          "name": "stdout",
          "output_type": "stream",
          "text": [
            "Columns available in the dataset:\n",
            "Unnamed: 0\n",
            "track_id\n",
            "artists\n",
            "album_name\n",
            "track_name\n",
            "popularity\n",
            "duration_ms\n",
            "explicit\n",
            "danceability\n",
            "energy\n",
            "key\n",
            "loudness\n",
            "mode\n",
            "speechiness\n",
            "acousticness\n",
            "instrumentalness\n",
            "liveness\n",
            "valence\n",
            "tempo\n",
            "time_signature\n",
            "track_genre\n"
          ]
        }
      ],
      "source": [
        "# We can also get the columns by running this code\n",
        "\n",
        "columns = df.columns\n",
        "print(\"Columns available in the dataset:\")\n",
        "for column in columns:\n",
        "    print(column)"
      ]
    },
    {
      "cell_type": "code",
      "execution_count": 6,
      "metadata": {
        "id": "sRvySccp8xEs"
      },
      "outputs": [
        {
          "name": "stdout",
          "output_type": "stream",
          "text": [
            "Missing values in the dataset:\n"
          ]
        },
        {
          "data": {
            "text/plain": [
              "Unnamed: 0          0\n",
              "track_id            0\n",
              "artists             1\n",
              "album_name          1\n",
              "track_name          1\n",
              "popularity          0\n",
              "duration_ms         0\n",
              "explicit            0\n",
              "danceability        0\n",
              "energy              0\n",
              "key                 0\n",
              "loudness            0\n",
              "mode                0\n",
              "speechiness         0\n",
              "acousticness        0\n",
              "instrumentalness    0\n",
              "liveness            0\n",
              "valence             0\n",
              "tempo               0\n",
              "time_signature      0\n",
              "track_genre         0\n",
              "dtype: int64"
            ]
          },
          "execution_count": 6,
          "metadata": {},
          "output_type": "execute_result"
        }
      ],
      "source": [
        "# Check for missing values. How would you handle them?\n",
        "missing_values = df.isnull().sum()\n",
        "print(\"Missing values in the dataset:\")\n",
        "missing_values\n",
        "\n",
        "# There are null values (missing values) in three different columns 'artists', 'album_name' and 'track_name'."
      ]
    },
    {
      "cell_type": "code",
      "execution_count": 7,
      "metadata": {},
      "outputs": [
        {
          "data": {
            "text/plain": [
              "['artists', 'album_name', 'track_name']"
            ]
          },
          "execution_count": 7,
          "metadata": {},
          "output_type": "execute_result"
        }
      ],
      "source": [
        "# To show the columns which have missing values print this code\n",
        "\n",
        "missing_values = df.isna().any()\n",
        "missing_values[missing_values].index.tolist()"
      ]
    },
    {
      "cell_type": "code",
      "execution_count": null,
      "metadata": {},
      "outputs": [],
      "source": [
        "# Are there any outliers or unusual values in the dataset?"
      ]
    },
    {
      "cell_type": "code",
      "execution_count": null,
      "metadata": {
        "id": "cjbnJcyq84Z-"
      },
      "outputs": [],
      "source": [
        "#  What are the distributions of song popularity, duration_ms, and danceability? Use appropriate visualizations.\n",
        "#  How many unique genres are in the dataset? List the top 20. (Explain how you choose to list the top 20)"
      ]
    },
    {
      "cell_type": "code",
      "execution_count": null,
      "metadata": {
        "id": "rMkp76on-WMO"
      },
      "outputs": [],
      "source": [
        "#   Visualize the number of songs by genre. Which are the most common genres?\n",
        "#   Rank genres by the average popularity of their songs. Which genres tend to have more popular songs?\n",
        "#   Explore other characteristics (like danceability, energy, etc.) by genre. Are there any noticeable differences or trends?"
      ]
    },
    {
      "cell_type": "code",
      "execution_count": null,
      "metadata": {
        "id": "ielqDlwV-vsw"
      },
      "outputs": [],
      "source": [
        " # Investigate the relationship between danceability and energy. Do songs that are more danceable tend to have more energy? Use a scatter plot.\n",
        " # How does song popularity relate to other characteristics like danceability, loudness, or tempo?"
      ]
    },
    {
      "cell_type": "code",
      "execution_count": null,
      "metadata": {
        "id": "_FxRvL0u-99L"
      },
      "outputs": [],
      "source": [
        " #  How do explicit songs compare to non-explicit ones in terms of popularity or other characteristics?\n",
        " #  Are there any trends related to tempo or time_signature?"
      ]
    },
    {
      "cell_type": "markdown",
      "metadata": {
        "id": "l7D2uPGCM1oR"
      },
      "source": [
        "# Part 2"
      ]
    },
    {
      "cell_type": "markdown",
      "metadata": {
        "id": "xt2GQRMLM3To"
      },
      "source": [
        "## Goals of Part 2\n",
        "    1. Pre-processing for PCA (encoding & scaling)\n",
        "    2. PCA and explanations of results\n",
        "    3. Clustering\n",
        "## Relevant libraries for this part\n",
        "    1. StandardScaler\n",
        "    2. PCA\n",
        "    3. KMeans\n",
        "\n"
      ]
    },
    {
      "cell_type": "code",
      "execution_count": null,
      "metadata": {
        "id": "6p2J7GpNSdEF"
      },
      "outputs": [],
      "source": [
        "#  Handle any missing or categorical data.\n",
        "#  Standardize the dataset since PCA is sensitive to the magnitude of the data."
      ]
    },
    {
      "cell_type": "code",
      "execution_count": null,
      "metadata": {
        "id": "OVNhDbUYM1QA"
      },
      "outputs": [],
      "source": [
        " # Conduct a PCA on the song characteristics.\n",
        " # Visualize the explained variance for each principal component.\n",
        " # Reduce the dataset's dimensions based on the PCA results and visualize the data in the reduced dimension space."
      ]
    },
    {
      "cell_type": "code",
      "execution_count": null,
      "metadata": {
        "id": "lqNfn7F1VeKg"
      },
      "outputs": [],
      "source": [
        " #   Choose a clustering algorithm (e.g., KMeans, DBSCAN, or Hierarchical).\n",
        " #   Determine the optimal number of clusters (if needed, like in KMeans). explain how you get to that number of clusters\n",
        " #   Cluster the songs based on the reduced dimensions from PCA.\n",
        " #   Visualize the clusters and interpret any patterns. Write your interpretations"
      ]
    },
    {
      "cell_type": "markdown",
      "metadata": {
        "id": "iMaEqiQeO_nm"
      },
      "source": [
        "# Part 3"
      ]
    },
    {
      "cell_type": "markdown",
      "metadata": {
        "id": "lWtaD1EkPFPb"
      },
      "source": [
        "## Goals of Part 3\n",
        "    1. Vectorization   \n",
        "    2. Cosine similarities\n",
        "    3. Build and test recommender\n",
        "    Objective: Develop a basic music recommender system that suggests songs based on textual data and put it in a small grad.io app\n",
        "## Relevant libraries for this part\n",
        "    1. linear_kernel\n",
        "    2. TfidfVectorizer\n",
        "    3. grad.io"
      ]
    },
    {
      "cell_type": "markdown",
      "metadata": {
        "id": "vAMIpSaTYOW6"
      },
      "source": [
        "Build the Recommender:\n",
        "\n",
        "  Create a function that takes a song name as input and outputs a list of songs recommended based on textual similarity. For this, you'll use the cosine similarity scores."
      ]
    },
    {
      "cell_type": "code",
      "execution_count": null,
      "metadata": {
        "id": "lh6JlOR2YX9E"
      },
      "outputs": [],
      "source": [
        "# Refine the Textual Data: Consider merging multiple textual columns (e.g., artist name + track name) to generate recommendations based on combined textual data."
      ]
    },
    {
      "cell_type": "code",
      "execution_count": null,
      "metadata": {
        "id": "WO0YDiSzYaae"
      },
      "outputs": [],
      "source": [
        "# Filtering by Additional Features: How might you modify the recommender to suggest only songs from a particular genre or only non-explicit songs?"
      ]
    },
    {
      "cell_type": "code",
      "execution_count": null,
      "metadata": {
        "id": "CzjsZ4L9Ye9B"
      },
      "outputs": [],
      "source": [
        "#  Improving Efficiency: If you have a very large dataset, computing cosine similarities can be time-consuming. How might you address this efficiency concern?"
      ]
    }
  ],
  "metadata": {
    "colab": {
      "provenance": []
    },
    "kernelspec": {
      "display_name": "Python 3",
      "name": "python3"
    },
    "language_info": {
      "codemirror_mode": {
        "name": "ipython",
        "version": 3
      },
      "file_extension": ".py",
      "mimetype": "text/x-python",
      "name": "python",
      "nbconvert_exporter": "python",
      "pygments_lexer": "ipython3",
      "version": "3.11.4"
    }
  },
  "nbformat": 4,
  "nbformat_minor": 0
}
